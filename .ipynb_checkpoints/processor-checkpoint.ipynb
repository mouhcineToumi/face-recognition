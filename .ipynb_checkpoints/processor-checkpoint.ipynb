{
 "cells": [
  {
   "cell_type": "code",
   "execution_count": 9,
   "metadata": {},
   "outputs": [],
   "source": [
    "from detector import *\n",
    "import cv2\n",
    "import matplotlib.pyplot as plt\n",
    "import numpy as np"
   ]
  },
  {
   "cell_type": "code",
   "execution_count": 10,
   "metadata": {},
   "outputs": [],
   "source": [
    "class Preprocessor:\n",
    "    \n",
    "    def __init__(self, dir_=\"images/\"):\n",
    "        self.face_detector = FaceDetector()\n",
    "        self.img_dir = dir_\n",
    "\n",
    "    #horizontal flip\n",
    "    def flip_img(self, image):\n",
    "        return cv2.flip(image, 1)\n",
    "\n",
    "    #resize\n",
    "    def resize(self, image, size=(96, 96)):\n",
    "        return cv2.resize(image, size)\n",
    "\n",
    "    #takes image and returns two faces\n",
    "    def process(self, image_path):\n",
    "        \n",
    "        faces = []\n",
    "        faces.append(self.face_detector.get_face(image_path))\n",
    "        faces.append(self.face_detector.get_face2(self.rotate_img(image_path, -20)))\n",
    "        faces.append(self.face_detector.get_face2(self.rotate_img(image_path, 20)))\n",
    "        \n",
    "        d = []\n",
    "        for f in faces:\n",
    "            d.append(self.resize(f))\n",
    "        return d\n",
    "    \n",
    "    def get_input(self, image_path):\n",
    "        face = self.face_detector.get_face(image_path)\n",
    "        return self.resize(face)\n",
    "    \n",
    "    def rotate_img(self, path, ang=-20):\n",
    "        img = cv2.imread(path)\n",
    "        num_rows, num_cols = img.shape[:2]\n",
    "        \n",
    "        rotation_matrix = cv2.getRotationMatrix2D((num_cols/2, num_rows/2), ang, 1)\n",
    "        d = cv2.warpAffine(img, rotation_matrix, (num_cols, num_rows))\n",
    "        \n",
    "        return d\n",
    "    \n",
    "    #in a folder containing ( images only )\n",
    "    # dic = { \"person\":[img1], ...}\n",
    "    def get_augmented(self, pdir):\n",
    "        dic = []\n",
    "        pics = [pic for pic in os.listdir(self.img_dir + pdir)]\n",
    "        for pic in pics:\n",
    "            dic += (self.process(self.img_dir + pdir + pic))\n",
    "        return dic\n",
    "    \n",
    "    def get_database(self):\n",
    "        db = {}\n",
    "        people = [person for person in os.listdir(self.img_dir)]\n",
    "        for person in people:\n",
    "            db[person] = self.get_augmented(person+\"/\")\n",
    "        return db"
   ]
  },
  {
   "cell_type": "code",
   "execution_count": 11,
   "metadata": {},
   "outputs": [],
   "source": [
    "preproc = Preprocessor()"
   ]
  },
  {
   "cell_type": "code",
   "execution_count": 30,
   "metadata": {},
   "outputs": [
    {
     "data": {
      "text/plain": [
       "-1"
      ]
     },
     "execution_count": 30,
     "metadata": {},
     "output_type": "execute_result"
    }
   ],
   "source": [
    "mImage = cv2.imread('test.jpg')\n",
    "hsvImg = cv2.cvtColor(mImage,cv2.COLOR_BGR2HSV)\n",
    "# decreasing the V channel by a factor from the original\n",
    "hsvImg[...,2] = hsvImg[...,2]*0.8\n",
    "\n",
    "cv2.imshow(\"another\", cv2.cvtColor(hsvImg,cv2.COLOR_HSV2BGR))\n",
    "cv2.waitKey(0)"
   ]
  },
  {
   "cell_type": "code",
   "execution_count": 31,
   "metadata": {},
   "outputs": [
    {
     "ename": "error",
     "evalue": "OpenCV(4.1.0) C:\\projects\\opencv-python\\opencv\\modules\\imgproc\\src\\histogram.cpp:3345: error: (-215:Assertion failed) _src.type() == CV_8UC1 in function 'cv::equalizeHist'\n",
     "output_type": "error",
     "traceback": [
      "\u001b[1;31m---------------------------------------------------------------------------\u001b[0m",
      "\u001b[1;31merror\u001b[0m                                     Traceback (most recent call last)",
      "\u001b[1;32m<ipython-input-31-0747d5d3c240>\u001b[0m in \u001b[0;36m<module>\u001b[1;34m\u001b[0m\n\u001b[0;32m      1\u001b[0m \u001b[0mimage\u001b[0m \u001b[1;33m=\u001b[0m \u001b[0mcv2\u001b[0m\u001b[1;33m.\u001b[0m\u001b[0mimread\u001b[0m\u001b[1;33m(\u001b[0m\u001b[1;34m'test.jpg'\u001b[0m\u001b[1;33m)\u001b[0m\u001b[1;33m\u001b[0m\u001b[1;33m\u001b[0m\u001b[0m\n\u001b[1;32m----> 2\u001b[1;33m \u001b[0mimage_enhanced\u001b[0m \u001b[1;33m=\u001b[0m \u001b[0mcv2\u001b[0m\u001b[1;33m.\u001b[0m\u001b[0mequalizeHist\u001b[0m\u001b[1;33m(\u001b[0m\u001b[0mimage\u001b[0m\u001b[1;33m)\u001b[0m\u001b[1;33m\u001b[0m\u001b[1;33m\u001b[0m\u001b[0m\n\u001b[0m\u001b[0;32m      3\u001b[0m \u001b[0mcv2\u001b[0m\u001b[1;33m.\u001b[0m\u001b[0mimshow\u001b[0m\u001b[1;33m(\u001b[0m\u001b[1;34m\"another\"\u001b[0m\u001b[1;33m,\u001b[0m \u001b[0mimage_enhanced\u001b[0m\u001b[1;33m)\u001b[0m\u001b[1;33m\u001b[0m\u001b[1;33m\u001b[0m\u001b[0m\n\u001b[0;32m      4\u001b[0m \u001b[0mcv2\u001b[0m\u001b[1;33m.\u001b[0m\u001b[0mwaitKey\u001b[0m\u001b[1;33m(\u001b[0m\u001b[1;36m0\u001b[0m\u001b[1;33m)\u001b[0m\u001b[1;33m\u001b[0m\u001b[1;33m\u001b[0m\u001b[0m\n",
      "\u001b[1;31merror\u001b[0m: OpenCV(4.1.0) C:\\projects\\opencv-python\\opencv\\modules\\imgproc\\src\\histogram.cpp:3345: error: (-215:Assertion failed) _src.type() == CV_8UC1 in function 'cv::equalizeHist'\n"
     ]
    }
   ],
   "source": [
    "image = cv2.imread('test.jpg', 0)\n",
    "image_enhanced = cv2.equalizeHist(image)\n",
    "cv2.imshow(\"another\", image_enhanced)\n",
    "cv2.waitKey(0)"
   ]
  },
  {
   "cell_type": "code",
   "execution_count": 5,
   "metadata": {},
   "outputs": [],
   "source": [
    "db = preproc.get_database()"
   ]
  },
  {
   "cell_type": "code",
   "execution_count": 6,
   "metadata": {},
   "outputs": [
    {
     "ename": "KeyError",
     "evalue": "'asian'",
     "output_type": "error",
     "traceback": [
      "\u001b[1;31m---------------------------------------------------------------------------\u001b[0m",
      "\u001b[1;31mKeyError\u001b[0m                                  Traceback (most recent call last)",
      "\u001b[1;32m<ipython-input-6-4391b6a2252f>\u001b[0m in \u001b[0;36m<module>\u001b[1;34m\u001b[0m\n\u001b[1;32m----> 1\u001b[1;33m \u001b[0mprint\u001b[0m\u001b[1;33m(\u001b[0m\u001b[0mdb\u001b[0m\u001b[1;33m[\u001b[0m\u001b[1;34m\"asian\"\u001b[0m\u001b[1;33m]\u001b[0m\u001b[1;33m[\u001b[0m\u001b[1;36m0\u001b[0m\u001b[1;33m]\u001b[0m\u001b[1;33m.\u001b[0m\u001b[0mshape\u001b[0m\u001b[1;33m)\u001b[0m\u001b[1;33m\u001b[0m\u001b[1;33m\u001b[0m\u001b[0m\n\u001b[0m",
      "\u001b[1;31mKeyError\u001b[0m: 'asian'"
     ]
    }
   ],
   "source": [
    "print(db[\"asian\"][0].shape)"
   ]
  },
  {
   "cell_type": "code",
   "execution_count": null,
   "metadata": {},
   "outputs": [],
   "source": [
    "np.transpose(db[\"asian\"][0]).shape"
   ]
  },
  {
   "cell_type": "code",
   "execution_count": null,
   "metadata": {},
   "outputs": [],
   "source": []
  }
 ],
 "metadata": {
  "kernelspec": {
   "display_name": "Python 3",
   "language": "python",
   "name": "python3"
  },
  "language_info": {
   "codemirror_mode": {
    "name": "ipython",
    "version": 3
   },
   "file_extension": ".py",
   "mimetype": "text/x-python",
   "name": "python",
   "nbconvert_exporter": "python",
   "pygments_lexer": "ipython3",
   "version": "3.7.3"
  }
 },
 "nbformat": 4,
 "nbformat_minor": 2
}
